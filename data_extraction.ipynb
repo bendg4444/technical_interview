{
 "cells": [
  {
   "attachments": {},
   "cell_type": "markdown",
   "metadata": {},
   "source": [
    "## Data Extraction \n",
    "\n",
    "### This file is used as a playground in order to:\n",
    "\n",
    "* Extract the data from postgres DB\n",
    "* Inspect\n",
    "* Create functions to create subsets of data to serve the dashboard"
   ]
  },
  {
   "cell_type": "code",
   "execution_count": 14,
   "metadata": {},
   "outputs": [],
   "source": [
    "import pandas as pd\n",
    "import psycopg2\n",
    "import psycopg2.extras\n",
    "import warnings\n",
    "import os \n",
    "from dotenv import load_dotenv\n",
    "warnings.filterwarnings('ignore')\n",
    "\n",
    "load_dotenv(override=True, verbose=True)\n",
    "\n",
    "DB_USER=os.getenv(\"DB_USER\")\n",
    "DB_PASSWORD=os.getenv(\"DB_PASSWORD\")\n",
    "DB_HOST=os.getenv(\"DB_HOST\")\n",
    "DB_NAME=os.getenv(\"DB_NAME\")\n",
    "\n",
    "def get_db_connection() -> psycopg2.extensions.connection:\n",
    "    \"\"\" Create a connection for database postgres Aurora\"\"\"\n",
    "    try:\n",
    "        conn = psycopg2.connect(f\"\"\"\n",
    "    dbname={DB_NAME}\n",
    "    user={DB_USER} \n",
    "    password={DB_PASSWORD}\n",
    "    host={DB_HOST}\"\"\")\n",
    "        return conn \n",
    "    except:\n",
    "        print(\"Error connecting to database.\")\n",
    "\n",
    "def query_executer(\n",
    "    conn: psycopg2.extensions.connection, query: str, params: tuple = ()\n",
    ") -> list:\n",
    "    \"\"\"An executor function for executing sql statements\"\"\"\n",
    "    if conn != None:\n",
    "        with conn.cursor(cursor_factory=psycopg2.extras.RealDictCursor) as cur:\n",
    "            cur.execute(query, params)\n",
    "            conn.commit()\n",
    "            try:\n",
    "                returned_data = cur.fetchall()\n",
    "                return returned_data\n",
    "            except:\n",
    "                pass\n",
    "    else:\n",
    "        return \"No connection\"\n",
    "        \n",
    "conn = get_db_connection()"
   ]
  },
  {
   "attachments": {},
   "cell_type": "markdown",
   "metadata": {},
   "source": [
    "## Ingestions and inspections"
   ]
  },
  {
   "attachments": {},
   "cell_type": "markdown",
   "metadata": {},
   "source": [
    "### Look at the artwork Table"
   ]
  },
  {
   "cell_type": "code",
   "execution_count": 15,
   "metadata": {},
   "outputs": [
    {
     "name": "stdout",
     "output_type": "stream",
     "text": [
      "<class 'pandas.core.frame.DataFrame'>\n",
      "RangeIndex: 6325 entries, 0 to 6324\n",
      "Data columns (total 5 columns):\n",
      " #   Column          Non-Null Count  Dtype \n",
      "---  ------          --------------  ----- \n",
      " 0   artwork_id      6325 non-null   int64 \n",
      " 1   title           6325 non-null   object\n",
      " 2   year_completed  6325 non-null   int64 \n",
      " 3   department      6325 non-null   object\n",
      " 4   artist_id       6325 non-null   int64 \n",
      "dtypes: int64(3), object(2)\n",
      "memory usage: 247.2+ KB\n",
      "None\n",
      "      artwork_id                                              title  \\\n",
      "3758        3745  Untitled (plate, folio 49-50) from Poetry of S...   \n",
      "2151        2145  Untitled, no. 4 of 34, from the illustrated bo...   \n",
      "6124        6124            Intake Facility for an Anonymous Client   \n",
      "904          903   Untitled from Fabricated Cultural Belief Systems   \n",
      "3020        3011                              Naming Tokyo (part I)   \n",
      "532          531                                  Kleiner Aufmarsch   \n",
      "3051        3042  Low Tide Wandering No. 30 (Wattwanderung No. 3...   \n",
      "6140        6140            Intake Facility for an Anonymous Client   \n",
      "4715        4704                         Mistah Kurtz - He Not Dead   \n",
      "3977        3965       Wind and the Willows - What's Our Hero To Do   \n",
      "\n",
      "      year_completed             department  artist_id  \n",
      "3758            2011      Drawings & Prints      25414  \n",
      "2151            2002      Drawings & Prints        710  \n",
      "6124            2017  Architecture & Design     131529  \n",
      "904             2004      Drawings & Prints      25412  \n",
      "3020            2003      Drawings & Prints      33825  \n",
      "532             2003      Drawings & Prints      28565  \n",
      "3051            2001      Drawings & Prints       5281  \n",
      "6140            2017  Architecture & Design     131529  \n",
      "4715            2014      Drawings & Prints       8033  \n",
      "3977            2000  Media and Performance       6288  \n"
     ]
    }
   ],
   "source": [
    "sql_1 = \"SELECT * FROM artwork\"\n",
    "df_artwork = pd.read_sql(sql_1, conn)\n",
    "print(df_artwork.info())\n",
    "print(df_artwork.sample(10))"
   ]
  },
  {
   "attachments": {},
   "cell_type": "markdown",
   "metadata": {},
   "source": [
    "### Inspection into artist table"
   ]
  },
  {
   "cell_type": "code",
   "execution_count": 16,
   "metadata": {},
   "outputs": [
    {
     "name": "stdout",
     "output_type": "stream",
     "text": [
      "<class 'pandas.core.frame.DataFrame'>\n",
      "RangeIndex: 155 entries, 0 to 154\n",
      "Data columns (total 6 columns):\n",
      " #   Column       Non-Null Count  Dtype \n",
      "---  ------       --------------  ----- \n",
      " 0   artist_id    155 non-null    int64 \n",
      " 1   artist_name  155 non-null    object\n",
      " 2   nationality  155 non-null    object\n",
      " 3   gender       154 non-null    object\n",
      " 4   year_start   155 non-null    int64 \n",
      " 5   year_end     155 non-null    int64 \n",
      "dtypes: int64(3), object(3)\n",
      "memory usage: 7.4+ KB\n",
      "None\n",
      "     artist_id        artist_name  nationality  gender  year_start  year_end\n",
      "67        8383       Francis Alÿs      Belgian    Male        1959         0\n",
      "97       28742    Paulina Olowska       Polish  Female        1976         0\n",
      "63        8276  Thomas Hirschhorn        Swiss    Male        1957         0\n",
      "96       28728      Paul Morrison      British    Male        1966         0\n",
      "135      38858       Deana Lawson     American  Female        1979         0\n",
      "111      30229           Mark Fox     American    Male        1963         0\n",
      "132      38029       Roe Ethridge     American    Male        1969         0\n",
      "75       23005        James Siena     American    Male        1957         0\n",
      "133      38243   Barthelemy Toguo  Cameroonian    Male        1967         0\n",
      "80       26465    Josiah McElheny     American    Male        1966         0\n"
     ]
    }
   ],
   "source": [
    "sql_2 = \"SELECT * FROM artist\"\n",
    "df_artist = pd.read_sql(sql_2, conn)\n",
    "print(df_artist.info())\n",
    "print(df_artist.sample(10))"
   ]
  },
  {
   "cell_type": "code",
   "execution_count": 17,
   "metadata": {},
   "outputs": [],
   "source": [
    "# Join the tables\n",
    "sql = \"\"\"SELECT * FROM artwork \n",
    "            JOIN artist \n",
    "                ON artwork.artist_id = artist.artist_id\"\"\"\n",
    "df_joined = pd.read_sql(sql, conn)"
   ]
  },
  {
   "cell_type": "code",
   "execution_count": 18,
   "metadata": {},
   "outputs": [
    {
     "data": {
      "text/plain": [
       "(6325, 11)"
      ]
     },
     "execution_count": 18,
     "metadata": {},
     "output_type": "execute_result"
    }
   ],
   "source": [
    "df_joined.shape"
   ]
  },
  {
   "cell_type": "code",
   "execution_count": 19,
   "metadata": {},
   "outputs": [
    {
     "data": {
      "text/plain": [
       "(6325, 11)"
      ]
     },
     "execution_count": 19,
     "metadata": {},
     "output_type": "execute_result"
    }
   ],
   "source": [
    "# drop duplicates\n",
    "df_joined = df_joined[df_joined.duplicated() == False ]\n",
    "df_joined.shape"
   ]
  },
  {
   "attachments": {},
   "cell_type": "markdown",
   "metadata": {},
   "source": [
    "### An inspection into the joined tables"
   ]
  },
  {
   "cell_type": "code",
   "execution_count": 20,
   "metadata": {},
   "outputs": [
    {
     "name": "stdout",
     "output_type": "stream",
     "text": [
      "<class 'pandas.core.frame.DataFrame'>\n",
      "Int64Index: 6325 entries, 0 to 6324\n",
      "Data columns (total 11 columns):\n",
      " #   Column          Non-Null Count  Dtype \n",
      "---  ------          --------------  ----- \n",
      " 0   artwork_id      6325 non-null   int64 \n",
      " 1   title           6325 non-null   object\n",
      " 2   year_completed  6325 non-null   int64 \n",
      " 3   department      6325 non-null   object\n",
      " 4   artist_id       6325 non-null   int64 \n",
      " 5   artist_id       6325 non-null   int64 \n",
      " 6   artist_name     6325 non-null   object\n",
      " 7   nationality     6325 non-null   object\n",
      " 8   gender          6287 non-null   object\n",
      " 9   year_start      6325 non-null   int64 \n",
      " 10  year_end        6325 non-null   int64 \n",
      "dtypes: int64(6), object(5)\n",
      "memory usage: 593.0+ KB\n",
      "None\n"
     ]
    },
    {
     "data": {
      "text/html": [
       "<div>\n",
       "<style scoped>\n",
       "    .dataframe tbody tr th:only-of-type {\n",
       "        vertical-align: middle;\n",
       "    }\n",
       "\n",
       "    .dataframe tbody tr th {\n",
       "        vertical-align: top;\n",
       "    }\n",
       "\n",
       "    .dataframe thead th {\n",
       "        text-align: right;\n",
       "    }\n",
       "</style>\n",
       "<table border=\"1\" class=\"dataframe\">\n",
       "  <thead>\n",
       "    <tr style=\"text-align: right;\">\n",
       "      <th></th>\n",
       "      <th>artwork_id</th>\n",
       "      <th>title</th>\n",
       "      <th>year_completed</th>\n",
       "      <th>department</th>\n",
       "      <th>artist_id</th>\n",
       "      <th>artist_id</th>\n",
       "      <th>artist_name</th>\n",
       "      <th>nationality</th>\n",
       "      <th>gender</th>\n",
       "      <th>year_start</th>\n",
       "      <th>year_end</th>\n",
       "    </tr>\n",
       "  </thead>\n",
       "  <tbody>\n",
       "    <tr>\n",
       "      <th>3787</th>\n",
       "      <td>3773</td>\n",
       "      <td>Untitled from Andy Warhol Doesn't Play Second ...</td>\n",
       "      <td>2010</td>\n",
       "      <td>Drawings &amp; Prints</td>\n",
       "      <td>28847</td>\n",
       "      <td>28847</td>\n",
       "      <td>Kelley Walker</td>\n",
       "      <td>American</td>\n",
       "      <td>Male</td>\n",
       "      <td>1969</td>\n",
       "      <td>0</td>\n",
       "    </tr>\n",
       "    <tr>\n",
       "      <th>4796</th>\n",
       "      <td>4785</td>\n",
       "      <td>Four Softground Etchings w/ Drypoint</td>\n",
       "      <td>2014</td>\n",
       "      <td>Drawings &amp; Prints</td>\n",
       "      <td>6448</td>\n",
       "      <td>6448</td>\n",
       "      <td>Christopher Wool</td>\n",
       "      <td>American</td>\n",
       "      <td>Male</td>\n",
       "      <td>1955</td>\n",
       "      <td>0</td>\n",
       "    </tr>\n",
       "    <tr>\n",
       "      <th>3459</th>\n",
       "      <td>3448</td>\n",
       "      <td>Untitled from Secret Knots</td>\n",
       "      <td>2008</td>\n",
       "      <td>Drawings &amp; Prints</td>\n",
       "      <td>6408</td>\n",
       "      <td>6408</td>\n",
       "      <td>Terry Winters</td>\n",
       "      <td>American</td>\n",
       "      <td>Male</td>\n",
       "      <td>1949</td>\n",
       "      <td>0</td>\n",
       "    </tr>\n",
       "    <tr>\n",
       "      <th>1002</th>\n",
       "      <td>1001</td>\n",
       "      <td>Untitled from Cubes in Color on Color</td>\n",
       "      <td>2003</td>\n",
       "      <td>Drawings &amp; Prints</td>\n",
       "      <td>3528</td>\n",
       "      <td>3528</td>\n",
       "      <td>Sol LeWitt</td>\n",
       "      <td>American</td>\n",
       "      <td>Male</td>\n",
       "      <td>1928</td>\n",
       "      <td>2007</td>\n",
       "    </tr>\n",
       "    <tr>\n",
       "      <th>5251</th>\n",
       "      <td>5238</td>\n",
       "      <td>Independence/Nakba</td>\n",
       "      <td>2013</td>\n",
       "      <td>Photography</td>\n",
       "      <td>49682</td>\n",
       "      <td>49682</td>\n",
       "      <td>Fazal Sheikh</td>\n",
       "      <td>American</td>\n",
       "      <td>Male</td>\n",
       "      <td>1965</td>\n",
       "      <td>0</td>\n",
       "    </tr>\n",
       "    <tr>\n",
       "      <th>4867</th>\n",
       "      <td>4855</td>\n",
       "      <td>Wir sind keine Enten auf dem Teich, wir sind S...</td>\n",
       "      <td>2015</td>\n",
       "      <td>Drawings &amp; Prints</td>\n",
       "      <td>6288</td>\n",
       "      <td>6288</td>\n",
       "      <td>Lawrence Weiner</td>\n",
       "      <td>American</td>\n",
       "      <td>Male</td>\n",
       "      <td>1942</td>\n",
       "      <td>2021</td>\n",
       "    </tr>\n",
       "    <tr>\n",
       "      <th>3069</th>\n",
       "      <td>3060</td>\n",
       "      <td>Low Tide Wandering No. 48 (Wattwanderung No. 4...</td>\n",
       "      <td>2001</td>\n",
       "      <td>Drawings &amp; Prints</td>\n",
       "      <td>5281</td>\n",
       "      <td>5281</td>\n",
       "      <td>Thomas Schütte</td>\n",
       "      <td>German</td>\n",
       "      <td>Male</td>\n",
       "      <td>1954</td>\n",
       "      <td>0</td>\n",
       "    </tr>\n",
       "    <tr>\n",
       "      <th>5254</th>\n",
       "      <td>5241</td>\n",
       "      <td>Independence/Nakba</td>\n",
       "      <td>2013</td>\n",
       "      <td>Photography</td>\n",
       "      <td>49682</td>\n",
       "      <td>49682</td>\n",
       "      <td>Fazal Sheikh</td>\n",
       "      <td>American</td>\n",
       "      <td>Male</td>\n",
       "      <td>1965</td>\n",
       "      <td>0</td>\n",
       "    </tr>\n",
       "    <tr>\n",
       "      <th>995</th>\n",
       "      <td>994</td>\n",
       "      <td>Untitled from Cubes in Color on Color</td>\n",
       "      <td>2003</td>\n",
       "      <td>Drawings &amp; Prints</td>\n",
       "      <td>3528</td>\n",
       "      <td>3528</td>\n",
       "      <td>Sol LeWitt</td>\n",
       "      <td>American</td>\n",
       "      <td>Male</td>\n",
       "      <td>1928</td>\n",
       "      <td>2007</td>\n",
       "    </tr>\n",
       "    <tr>\n",
       "      <th>2066</th>\n",
       "      <td>2061</td>\n",
       "      <td>Untitled from Blueberry Surprise</td>\n",
       "      <td>2006</td>\n",
       "      <td>Drawings &amp; Prints</td>\n",
       "      <td>7929</td>\n",
       "      <td>7929</td>\n",
       "      <td>Joseph Grigely</td>\n",
       "      <td>American</td>\n",
       "      <td>Male</td>\n",
       "      <td>1956</td>\n",
       "      <td>0</td>\n",
       "    </tr>\n",
       "  </tbody>\n",
       "</table>\n",
       "</div>"
      ],
      "text/plain": [
       "      artwork_id                                              title  \\\n",
       "3787        3773  Untitled from Andy Warhol Doesn't Play Second ...   \n",
       "4796        4785               Four Softground Etchings w/ Drypoint   \n",
       "3459        3448                         Untitled from Secret Knots   \n",
       "1002        1001              Untitled from Cubes in Color on Color   \n",
       "5251        5238                                 Independence/Nakba   \n",
       "4867        4855  Wir sind keine Enten auf dem Teich, wir sind S...   \n",
       "3069        3060  Low Tide Wandering No. 48 (Wattwanderung No. 4...   \n",
       "5254        5241                                 Independence/Nakba   \n",
       "995          994              Untitled from Cubes in Color on Color   \n",
       "2066        2061                   Untitled from Blueberry Surprise   \n",
       "\n",
       "      year_completed         department  artist_id  artist_id  \\\n",
       "3787            2010  Drawings & Prints      28847      28847   \n",
       "4796            2014  Drawings & Prints       6448       6448   \n",
       "3459            2008  Drawings & Prints       6408       6408   \n",
       "1002            2003  Drawings & Prints       3528       3528   \n",
       "5251            2013        Photography      49682      49682   \n",
       "4867            2015  Drawings & Prints       6288       6288   \n",
       "3069            2001  Drawings & Prints       5281       5281   \n",
       "5254            2013        Photography      49682      49682   \n",
       "995             2003  Drawings & Prints       3528       3528   \n",
       "2066            2006  Drawings & Prints       7929       7929   \n",
       "\n",
       "           artist_name nationality gender  year_start  year_end  \n",
       "3787     Kelley Walker    American   Male        1969         0  \n",
       "4796  Christopher Wool    American   Male        1955         0  \n",
       "3459     Terry Winters    American   Male        1949         0  \n",
       "1002        Sol LeWitt    American   Male        1928      2007  \n",
       "5251      Fazal Sheikh    American   Male        1965         0  \n",
       "4867   Lawrence Weiner    American   Male        1942      2021  \n",
       "3069    Thomas Schütte      German   Male        1954         0  \n",
       "5254      Fazal Sheikh    American   Male        1965         0  \n",
       "995         Sol LeWitt    American   Male        1928      2007  \n",
       "2066    Joseph Grigely    American   Male        1956         0  "
      ]
     },
     "execution_count": 20,
     "metadata": {},
     "output_type": "execute_result"
    }
   ],
   "source": [
    "print(df_joined.info())\n",
    "(df_joined.sample(10))"
   ]
  },
  {
   "cell_type": "code",
   "execution_count": 21,
   "metadata": {},
   "outputs": [
    {
     "name": "stdout",
     "output_type": "stream",
     "text": [
      "<class 'pandas.core.frame.DataFrame'>\n",
      "Int64Index: 4124 entries, 0 to 6324\n",
      "Data columns (total 11 columns):\n",
      " #   Column          Non-Null Count  Dtype \n",
      "---  ------          --------------  ----- \n",
      " 0   artwork_id      4124 non-null   int64 \n",
      " 1   title           4124 non-null   object\n",
      " 2   year_completed  4124 non-null   int64 \n",
      " 3   department      4124 non-null   object\n",
      " 4   artist_id       4124 non-null   int64 \n",
      " 5   artist_id       4124 non-null   int64 \n",
      " 6   artist_name     4124 non-null   object\n",
      " 7   nationality     4124 non-null   object\n",
      " 8   gender          4086 non-null   object\n",
      " 9   year_start      4124 non-null   int64 \n",
      " 10  year_end        4124 non-null   int64 \n",
      "dtypes: int64(6), object(5)\n",
      "memory usage: 386.6+ KB\n"
     ]
    }
   ],
   "source": [
    "# Remove 'untitled' artwork\n",
    "def drop_untitled_artwork(data: pd.DataFrame) -> pd.DataFrame:\n",
    "    \"\"\"Function to drop the titles with 'Untitled' in the title\"\"\"\n",
    "    return data[~(data['title'].str.contains('Untitled'))]\n",
    "\n",
    "df_processed = drop_untitled_artwork(df_joined)\n",
    "df_processed.info()"
   ]
  },
  {
   "cell_type": "code",
   "execution_count": 22,
   "metadata": {},
   "outputs": [
    {
     "name": "stdout",
     "output_type": "stream",
     "text": [
      "['Drawings & Prints', 'Photography', 'Painting & Sculpture', 'Media and Performance', 'Architecture & Design']\n"
     ]
    }
   ],
   "source": [
    "# Get unique departments\n",
    "\n",
    "departments = list(df_processed['department'].unique())\n",
    "print(departments)"
   ]
  },
  {
   "cell_type": "code",
   "execution_count": 23,
   "metadata": {},
   "outputs": [
    {
     "name": "stdout",
     "output_type": "stream",
     "text": [
      "\n",
      "Filtering by department: Drawings & Prints\n",
      "\n",
      "    artwork_id                                              title  \\\n",
      "0            1                                               Cane   \n",
      "4            5                 Self-Portrait (for Parkett no. 60)   \n",
      "7            8                     The Man in Black/Drone Harness   \n",
      "8            9                                      Self-Portrait   \n",
      "9           10                     Self-Portrait/Scribble/Etching   \n",
      "10          11             Self-Portrait/Scribble/Etching Box Set   \n",
      "11          12                         Self-Portrait/Pulp/Pochoir   \n",
      "12          13             Ssblak!Ssblak!!Ssblakallblak! Wonder#9   \n",
      "14          15   Elephant Women from the series Personal Articles   \n",
      "15          16  \"Hey If You're So Damn Smart, Why Can't You Ev...   \n",
      "\n",
      "    year_completed         department  artist_id  artist_id      artist_name  \\\n",
      "0             2000  Drawings & Prints       4758       4758   Martin Puryear   \n",
      "4             2000  Drawings & Prints       1156       1156      Chuck Close   \n",
      "7             2000  Drawings & Prints       7005       7005   Matthew Barney   \n",
      "8             2000  Drawings & Prints       1156       1156      Chuck Close   \n",
      "9             2000  Drawings & Prints       1156       1156      Chuck Close   \n",
      "10            2000  Drawings & Prints       1156       1156      Chuck Close   \n",
      "11            2000  Drawings & Prints       1156       1156      Chuck Close   \n",
      "12            2000  Drawings & Prints       7639       7639  Ellen Gallagher   \n",
      "14            2000  Drawings & Prints       7818       7818        Vik Muniz   \n",
      "15            2000  Drawings & Prints       7818       7818        Vik Muniz   \n",
      "\n",
      "   nationality  gender  year_start  year_end  \n",
      "0     American    Male        1941         0  \n",
      "4     American    Male        1940      2021  \n",
      "7     American    Male        1967         0  \n",
      "8     American    Male        1940      2021  \n",
      "9     American    Male        1940      2021  \n",
      "10    American    Male        1940      2021  \n",
      "11    American    Male        1940      2021  \n",
      "12    American  Female        1965         0  \n",
      "14   Brazilian    Male        1961         0  \n",
      "15   Brazilian    Male        1961         0  \n"
     ]
    }
   ],
   "source": [
    "# Filter by departments\n",
    "\n",
    "def filter_by_department(data: pd.DataFrame ,department: str) -> pd.DataFrame:\n",
    "    \"\"\"Given a department, filter the dataframe to return results only from that department\"\"\"\n",
    "    filtered_data = data[data['department'] == department]\n",
    "    return filtered_data\n",
    "\n",
    "# Inputs\n",
    "department_test = departments[0]\n",
    "\n",
    "print(f\"\\nFiltering by department: {department_test}\\n\")\n",
    "print(filter_by_department(df_processed, department_test).head(10))"
   ]
  },
  {
   "cell_type": "code",
   "execution_count": 24,
   "metadata": {},
   "outputs": [
    {
     "name": "stdout",
     "output_type": "stream",
     "text": [
      "Testing for years between 2006 - 2008\n",
      "\n",
      "      artwork_id                                              title  \\\n",
      "2706        2697                                         Opening Up   \n",
      "1483        1478              De Theatercompagnie Driekoningenavond   \n",
      "4234        4225  Woman Nr. 5 (Frau Nr. 5) from Women – Series C...   \n",
      "5732        5733                 Donated Object: Over-the-Rhine Mug   \n",
      "3984        3972                                 Turning Some Pages   \n",
      "2010        2005                       Swatter (for Parkett no. 81)   \n",
      "2052        2047  Security Barrier Type L from Security Barriers...   \n",
      "3475        3464                                     Satin Operator   \n",
      "3007        2998  Model K 1981 (Modell K 1981) from Architecture...   \n",
      "2284        2278                                   Hours of the Day   \n",
      "2105        2099                      \"Dow Chemical Represents You\"   \n",
      "1672        1667                                   Knotted Graphs/3   \n",
      "2123        2117                                          Pink Days   \n",
      "4664        4653                           The Works Christmas Card   \n",
      "1137        1133                                         Phasescape   \n",
      "\n",
      "      year_completed             department  artist_id  artist_id  \\\n",
      "2706            2008      Drawings & Prints        710        710   \n",
      "1483            2006  Architecture & Design      32472      32472   \n",
      "4234            2006      Drawings & Prints       5281       5281   \n",
      "5732            2006      Drawings & Prints      37145      37145   \n",
      "3984            2007  Media and Performance       6288       6288   \n",
      "2010            2007      Drawings & Prints      34722      34722   \n",
      "2052            2008      Drawings & Prints      35392      35392   \n",
      "3475            2007      Drawings & Prints      33913      33913   \n",
      "3007            2006      Drawings & Prints       5281       5281   \n",
      "2284            2006      Drawings & Prints        710        710   \n",
      "2105            2007      Drawings & Prints      31737      31737   \n",
      "1672            2008   Painting & Sculpture       6408       6408   \n",
      "2123            2008      Drawings & Prints        710        710   \n",
      "4664            2008      Drawings & Prints       8033       8033   \n",
      "1137            2006      Drawings & Prints       6408       6408   \n",
      "\n",
      "              artist_name nationality  gender  year_start  year_end  \n",
      "2706     Louise Bourgeois    American  Female        1911      2010  \n",
      "1483  Experimental Jetset       Dutch    None        1997         0  \n",
      "4234       Thomas Schütte      German    Male        1954         0  \n",
      "5732               Pope.L    American    Male        1955         0  \n",
      "3984      Lawrence Weiner    American    Male        1942      2021  \n",
      "2010            Ai Weiwei     Chinese    Male        1957         0  \n",
      "2052           Bani Abidi   Pakistani  Female        1971         0  \n",
      "3475      Trisha Donnelly    American  Female        1974         0  \n",
      "3007       Thomas Schütte      German    Male        1954         0  \n",
      "2284     Louise Bourgeois    American  Female        1911      2010  \n",
      "2105    Kayrock and Wolfy    American    Male           0         0  \n",
      "1672        Terry Winters    American    Male        1949         0  \n",
      "2123     Louise Bourgeois    American  Female        1911      2010  \n",
      "4664         Fiona Banner     British  Female        1966         0  \n",
      "1137        Terry Winters    American    Male        1949         0  \n"
     ]
    }
   ],
   "source": [
    "# Filter by data range for completed work\n",
    "\n",
    "def filter_completed_work_by_date_range(data: pd.DataFrame, start_year: int, end_year: int) -> pd.DataFrame:\n",
    "    \"\"\"Given a start and end year, filter the data for completed work using these ranges\"\"\"\n",
    "    filtered_data = data[(data['year_completed'] >= start_year) & (data['year_completed'] <= end_year)]\n",
    "    return filtered_data\n",
    "\n",
    "# Inputs\n",
    "start = 2006\n",
    "end = 2008\n",
    "\n",
    "print(f\"Testing for years between {start} - {end}\\n\")\n",
    "print(filter_completed_work_by_date_range(df_processed, start, end).sample(15))"
   ]
  },
  {
   "cell_type": "code",
   "execution_count": 25,
   "metadata": {},
   "outputs": [
    {
     "name": "stdout",
     "output_type": "stream",
     "text": [
      "Number of unique artworks available in collection 570\n",
      "\n",
      "      artwork_id                                             title  \\\n",
      "1557        1552                                            Within   \n",
      "1565        1560                               James Brown is Dead   \n",
      "1585        1580                      A Bookcase for onestar press   \n",
      "1593        1588                                        I Love You   \n",
      "1595        1590                                           Sampler   \n",
      "1599        1594                            That Person's Workbook   \n",
      "1600        1595               Spinner Winner (for Parkett no. 80)   \n",
      "1601        1596                                   Reconstructions   \n",
      "1603        1598                       Guardian of the Veil: Sekhu   \n",
      "1604        1599  Guardian of the Veil: Adoration of Norman Mailer   \n",
      "\n",
      "      year_completed         department  artist_id  artist_id  \\\n",
      "1557            2007  Drawings & Prints       2923       2923   \n",
      "1565            2007  Drawings & Prints      33393      33393   \n",
      "1585            2007  Drawings & Prints       6288       6288   \n",
      "1593            2007  Drawings & Prints        710        710   \n",
      "1595            2007  Drawings & Prints       5486       5486   \n",
      "1599            2007  Drawings & Prints       4160       4160   \n",
      "1600            2007  Drawings & Prints      28098      28098   \n",
      "1601            2007  Drawings & Prints      33915      33915   \n",
      "1603            2007  Drawings & Prints       7005       7005   \n",
      "1604            2007  Drawings & Prints       7005       7005   \n",
      "\n",
      "           artist_name nationality  gender  year_start  year_end  \n",
      "1557      Jasper Johns    American    Male        1930         0  \n",
      "1565     Mark Bradford    American    Male        1961         0  \n",
      "1585   Lawrence Weiner    American    Male        1942      2021  \n",
      "1593  Louise Bourgeois    American  Female        1911      2010  \n",
      "1595        Kiki Smith    American  Female        1954         0  \n",
      "1599     Matt Mullican    American    Male        1951         0  \n",
      "1600     Mark Grotjahn    American    Male        1968         0  \n",
      "1601       Huma Bhabha    American  Female        1962         0  \n",
      "1603    Matthew Barney    American    Male        1967         0  \n",
      "1604    Matthew Barney    American    Male        1967         0  \n"
     ]
    }
   ],
   "source": [
    "# Get number of artworks available in the collection\n",
    "\n",
    "def get_the_number_of_artworks(data: pd.DataFrame) -> int:\n",
    "    \"\"\"Function to make return number of artworks available\"\"\"\n",
    "    return len(data)\n",
    "\n",
    "# Get test input for data\n",
    "df_test = filter_by_department(df_processed, departments[0])\n",
    "df_test = filter_completed_work_by_date_range(df_test, 2007, 2010)\n",
    "num_of_artworks = get_the_number_of_artworks(df_test)\n",
    "\n",
    "print(f\"Number of unique artworks available in collection {num_of_artworks}\\n\")\n",
    "print(df_test.head(10))"
   ]
  },
  {
   "cell_type": "code",
   "execution_count": 26,
   "metadata": {},
   "outputs": [
    {
     "name": "stdout",
     "output_type": "stream",
     "text": [
      "Gender demographics for artists: \n",
      "\n",
      "   gender  count\n",
      "0  Female     18\n",
      "1    Male     46\n",
      "\n",
      "Number of unique artists: 64\n"
     ]
    }
   ],
   "source": [
    "# See a demographic breakdown of artist information: Gender\n",
    "\n",
    "def get_artists_gender_demographics(data: pd.DataFrame) -> pd.DataFrame:\n",
    "    \"\"\"Get the breakdown of artists gender demographics for given data\"\"\"\n",
    "    # drop duplicate values for artists\n",
    "    processed = data.drop_duplicates(subset=['artist_id'])\n",
    "    gender_demographics = processed.groupby('gender').count().reset_index()\n",
    "    gender_demographics['count'] = gender_demographics['artwork_id']\n",
    "    \n",
    "    return gender_demographics[['gender', 'count']]\n",
    "\n",
    "\n",
    "print(\"Gender demographics for artists: \\n\")\n",
    "print(get_artists_gender_demographics(df_test))\n",
    "\n",
    "# To measure previous values against -> do numbers make sense?\n",
    "total_artists = len(df_test['artist_name'].unique())\n",
    "print(f\"\\nNumber of unique artists: {total_artists}\")"
   ]
  },
  {
   "cell_type": "code",
   "execution_count": 27,
   "metadata": {},
   "outputs": [
    {
     "name": "stdout",
     "output_type": "stream",
     "text": [
      "\n",
      "The nationalities for the test data: \n",
      "\n",
      "      nationality  count\n",
      "0        Albanian      1\n",
      "1        American     43\n",
      "2         British      2\n",
      "3     Cameroonian      1\n",
      "4        Canadian      1\n",
      "5         Chinese      3\n",
      "6       Colombian      2\n",
      "7        Egyptian      1\n",
      "8         Italian      1\n",
      "9          Korean      1\n",
      "10        Mexican      2\n",
      "11      Pakistani      2\n",
      "12         Polish      1\n",
      "13  South African      1\n",
      "14        Spanish      1\n",
      "15          Swiss      1\n",
      "\n",
      "The sum of all the count values: 64\n"
     ]
    }
   ],
   "source": [
    "# See a demographic breakdown of artist information: Nationality\n",
    "\n",
    "def get_artists_nationality_demographics(data: pd.DataFrame) -> pd.DataFrame:\n",
    "    \"\"\"Returns a data frame with artists nationality distribution\"\"\"\n",
    "    # drop duplicate artists values\n",
    "    processed = data.drop_duplicates(subset=['artist_id'])\n",
    "    nationality_demographics = processed.groupby('nationality').count().reset_index()\n",
    "    nationality_demographics['count'] = nationality_demographics['artwork_id']\n",
    "\n",
    "    return nationality_demographics[['nationality', 'count']]\n",
    "\n",
    "\n",
    "print(\"\\nThe nationalities for the test data: \\n\")\n",
    "print(get_artists_nationality_demographics(df_test))\n",
    "\n",
    "# Test the count value:\n",
    "sum_of_counts = get_artists_nationality_demographics(df_test)['count'].sum()\n",
    "print(f\"\\nThe sum of all the count values: {sum_of_counts}\")"
   ]
  },
  {
   "cell_type": "code",
   "execution_count": 28,
   "metadata": {},
   "outputs": [
    {
     "name": "stdout",
     "output_type": "stream",
     "text": [
      "2000\n",
      "2021\n"
     ]
    }
   ],
   "source": [
    "print(df_joined['year_completed'].min())\n",
    "print(df_joined['year_completed'].max())"
   ]
  },
  {
   "cell_type": "code",
   "execution_count": null,
   "metadata": {},
   "outputs": [],
   "source": []
  }
 ],
 "metadata": {
  "kernelspec": {
   "display_name": "Python 3",
   "language": "python",
   "name": "python3"
  },
  "language_info": {
   "codemirror_mode": {
    "name": "ipython",
    "version": 3
   },
   "file_extension": ".py",
   "mimetype": "text/x-python",
   "name": "python",
   "nbconvert_exporter": "python",
   "pygments_lexer": "ipython3",
   "version": "3.10.9"
  },
  "orig_nbformat": 4,
  "vscode": {
   "interpreter": {
    "hash": "b0fa6594d8f4cbf19f97940f81e996739fb7646882a419484c72d19e05852a7e"
   }
  }
 },
 "nbformat": 4,
 "nbformat_minor": 2
}
